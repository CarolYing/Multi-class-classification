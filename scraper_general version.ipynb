{
 "cells": [
  {
   "cell_type": "code",
   "execution_count": 12,
   "metadata": {},
   "outputs": [],
   "source": [
    "import pandas as pd\n",
    "from selenium import webdriver\n",
    "import os\n",
    "from bs4 import BeautifulSoup\n",
    "from selenium.webdriver.support.ui import WebDriverWait\n",
    "from selenium.webdriver.support import expected_conditions as EC\n",
    "from selenium.webdriver.common.by import By\n",
    "from selenium.common.exceptions import TimeoutException\n",
    "import urllib3\n",
    "http = urllib3.PoolManager()\n",
    "from time import sleep\n",
    "import re\n",
    "import os.path\n",
    "\n",
    "\n",
    "chromdriver = '/usr/local/bin/chromedriver'\n",
    "driver = webdriver.Chrome(chromdriver)"
   ]
  },
  {
   "cell_type": "code",
   "execution_count": 13,
   "metadata": {},
   "outputs": [],
   "source": [
    "def scraper():\n",
    "    url = getURL()  #get the url\n",
    "    folderName = getFolderName()\n",
    "    pages = getPages()\n",
    "    driver.get(url)   #manually log in\n",
    "    releaseFile(url, pages, folderName)"
   ]
  },
  {
   "cell_type": "code",
   "execution_count": 16,
   "metadata": {},
   "outputs": [],
   "source": [
    "def getURL():\n",
    "    url = input('Enter the url:')\n",
    "    return url\n",
    "\n",
    "\n",
    "def getFolderName():\n",
    "    folderName = input('create a folder (with school name) and enter the folder name:')\n",
    "    return folderName\n",
    "    \n",
    "\n",
    "def getPages():\n",
    "    pages = input('Enter how many pages you want to scrper: ')\n",
    "    return eval(pages)\n",
    "    \n",
    "    \n",
    "def releaseFile(url, pages, folderName):\n",
    "    image_urls = []\n",
    "    names = []\n",
    "\n",
    "    pagenums = 0\n",
    "\n",
    "    i=0\n",
    "    while(i < pages):\n",
    "        delay = 3 # seconds\n",
    "        try:\n",
    "            myElem = WebDriverWait(driver, delay).until(EC.presence_of_element_located((By.ID, 'ember47')))\n",
    "            print (\"Page is ready!\")\n",
    "        except TimeoutException:\n",
    "            print (\"Loading took too much time!\")\n",
    "\n",
    "        driver_html = driver.page_source\n",
    "        soup = BeautifulSoup(driver_html, features=\"html.parser\")\n",
    "\n",
    "        main_table = soup.find_all(\"div\", \n",
    "                               {\"class\": \"blended-srp-results-js pt0 pb4 ph0 container-with-shadow\"})\n",
    "\n",
    "        rows = main_table[0].find_all(\"div\",\n",
    "                                 {\"class\": \"search-entity search-result search-result--person search-result--occlusion-enabled ember-view\"})\n",
    "\n",
    "\n",
    "        for r in rows:\n",
    "            images = r.find_all('img')\n",
    "            try: name = r.find_all(\"span\", {\"class\" : \"name actor-name\"})\n",
    "            except: name = [\"anonymous\"]\n",
    "            for image in images:\n",
    "                image_urls.append(image['src'])\n",
    "                try: names.append(name[0].text)\n",
    "                except: names.append('anonymous')\n",
    "\n",
    "        if i==0:\n",
    "            pagenums = 2\n",
    "            driver.get(url+\"&page=2\")\n",
    "        else:\n",
    "            try:\n",
    "                driver.get(url+\"&page=\" + str(pagenums))\n",
    "            except:\n",
    "                break\n",
    "\n",
    "        pagenums += 1\n",
    "        i += 1   \n",
    "    \n",
    "\n",
    "    url = image_urls[0]\n",
    "\n",
    "    for i, url in enumerate(image_urls):\n",
    "        sleep (0.25)\n",
    "        connection_pool = urllib3.PoolManager()\n",
    "        resp = connection_pool.request('GET',url )\n",
    "        url_name = url.split(\"=\")[-1]\n",
    "        fname = names[i].strip()\n",
    "        fname = re.sub(\"['\\\"]\",\"\",fname)\n",
    "        fname = fname + \"_a_\" + url_name\n",
    "        f = open(folderName + '/' + fname + '.jpg', 'wb')\n",
    "        f.write(resp.data)\n",
    "        f.close()\n",
    "        resp.release_conn()"
   ]
  },
  {
   "cell_type": "code",
   "execution_count": null,
   "metadata": {},
   "outputs": [
    {
     "name": "stdout",
     "output_type": "stream",
     "text": [
      "Enter the url:https://www.linkedin.com/search/results/all/?keywords=zhejiang%20normal%20university&origin=GLOBAL_SEARCH_HEADER\n",
      "create a folder (with school name) and enter the folder name:images_ZJNU\n",
      "Enter how many pages you want to scrper: 3\n"
     ]
    }
   ],
   "source": [
    "scraper()"
   ]
  },
  {
   "cell_type": "code",
   "execution_count": null,
   "metadata": {},
   "outputs": [],
   "source": []
  }
 ],
 "metadata": {
  "kernelspec": {
   "display_name": "Python 3",
   "language": "python",
   "name": "python3"
  },
  "language_info": {
   "codemirror_mode": {
    "name": "ipython",
    "version": 3
   },
   "file_extension": ".py",
   "mimetype": "text/x-python",
   "name": "python",
   "nbconvert_exporter": "python",
   "pygments_lexer": "ipython3",
   "version": "3.7.6"
  }
 },
 "nbformat": 4,
 "nbformat_minor": 4
}
